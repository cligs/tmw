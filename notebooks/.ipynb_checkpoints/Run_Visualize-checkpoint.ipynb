{
 "cells": [
  {
   "cell_type": "markdown",
   "metadata": {},
   "source": [
    "# Run Visualize\n",
    "\n",
    "(author: uhk, based on run_visualize.py by cs, created on: October 2017)\n",
    "\n",
    "This notebook is for calling functions from TMW's visualize module.\n",
    "\n",
    "General advice on how to use the notebook:\n",
    "\n",
    "* Run the code blocks one after the other. The blocks \"Imports\" and \"General Settings\" have to be run first.\n",
    "* Each visualization block, e.g. plot words-in-topics-treemap, can be run separately.\n",
    "* Some settings need to be changed, e.g. your working directory, number of topics, parameters, ... the comments say \"set...\" where this is the case. No other changes have to be made to the code."
   ]
  },
  {
   "cell_type": "markdown",
   "metadata": {},
   "source": [
    "## Imports"
   ]
  },
  {
   "cell_type": "code",
   "execution_count": 14,
   "metadata": {
    "collapsed": true
   },
   "outputs": [],
   "source": [
    "from os.path import join\n",
    "from os.path import abspath\n",
    "import importlib\n",
    "import sys"
   ]
  },
  {
   "cell_type": "code",
   "execution_count": 2,
   "metadata": {
    "collapsed": true
   },
   "outputs": [],
   "source": [
    "\"\"\"\n",
    "set the path to the directory where you stored TMW\n",
    "\"\"\"\n",
    "tmw_path = \"/home/ulrike/Git/tmw\""
   ]
  },
  {
   "cell_type": "code",
   "execution_count": 3,
   "metadata": {
    "collapsed": false
   },
   "outputs": [
    {
     "name": "stdout",
     "output_type": "stream",
     "text": [
      "['', '/usr/lib/python35.zip', '/usr/lib/python3.5', '/usr/lib/python3.5/plat-x86_64-linux-gnu', '/usr/lib/python3.5/lib-dynload', '/home/ulrike/.local/lib/python3.5/site-packages', '/usr/local/lib/python3.5/dist-packages', '/usr/local/lib/python3.5/dist-packages/wikiextractor-2.69-py3.5.egg', '/usr/lib/python3/dist-packages', '/home/ulrike/.local/lib/python3.5/site-packages/IPython/extensions', '/home/ulrike/.ipython', '/home/ulrike/Git/tmw/scripts']\n"
     ]
    }
   ],
   "source": [
    "sys.path.append(abspath(join(tmw_path, \"scripts\")))\n",
    "\"\"\"\n",
    "this shows your path settings\n",
    "\"\"\"\n",
    "print(sys.path)"
   ]
  },
  {
   "cell_type": "code",
   "execution_count": 38,
   "metadata": {
    "collapsed": false
   },
   "outputs": [
    {
     "data": {
      "text/plain": [
       "<module 'visualize' from '/home/ulrike/Git/tmw/scripts/visualize.py'>"
      ]
     },
     "execution_count": 38,
     "metadata": {},
     "output_type": "execute_result"
    }
   ],
   "source": [
    "import visualize\n",
    "\n",
    "importlib.reload(visualize)"
   ]
  },
  {
   "cell_type": "markdown",
   "metadata": {},
   "source": [
    "## General settings"
   ]
  },
  {
   "cell_type": "code",
   "execution_count": 7,
   "metadata": {
    "collapsed": true
   },
   "outputs": [],
   "source": [
    "\"\"\"\n",
    "set the working directory\n",
    "- a folder which contains the metadata file, the corpus folder, etc.\n",
    "- the topic modeling output will be stored in new subfolders inside the working directory\n",
    "\"\"\"\n",
    "wdir = \"/home/ulrike/Dokumente/GS/Veranstaltungen/WS16-17_Praxisworkshop/TMW\"\n",
    "\n",
    "\"\"\"\n",
    "set the model folder name\n",
    "\"\"\"\n",
    "model_folder = \"7_model\"\n",
    "\n",
    "\"\"\"\n",
    "set the output folder name for visualizations\n",
    "\"\"\"\n",
    "out_folder = \"9_visuals\"\n"
   ]
  },
  {
   "cell_type": "code",
   "execution_count": 8,
   "metadata": {
    "collapsed": false
   },
   "outputs": [],
   "source": [
    "out_dir = join(wdir, out_folder)"
   ]
  },
  {
   "cell_type": "code",
   "execution_count": 9,
   "metadata": {
    "collapsed": true
   },
   "outputs": [],
   "source": [
    "\"\"\"\n",
    "set the parameters as they were used in the topic modeling\n",
    "- these settings will be used for output file names\n",
    "\"\"\"\n",
    "NumTopics = 50\n",
    "NumIterations = 1000\n",
    "OptimizeIntervals = 50\n",
    "TopTopics = 50"
   ]
  },
  {
   "cell_type": "code",
   "execution_count": 10,
   "metadata": {
    "collapsed": true
   },
   "outputs": [],
   "source": [
    "param_settings = str(NumTopics) + \"tp-\" + str(NumIterations) + \"it-\" + str(OptimizeIntervals) + \"in-\" + str(TopTopics) + \"tt\""
   ]
  },
  {
   "cell_type": "markdown",
   "metadata": {},
   "source": [
    "## plot words-in-topics treemap"
   ]
  },
  {
   "cell_type": "code",
   "execution_count": 28,
   "metadata": {
    "collapsed": true
   },
   "outputs": [],
   "source": [
    "\"\"\"\n",
    "set the number of words to plot\n",
    "\"\"\"\n",
    "words_to_plot = 10"
   ]
  },
  {
   "cell_type": "code",
   "execution_count": 39,
   "metadata": {
    "collapsed": false
   },
   "outputs": [
    {
     "name": "stdout",
     "output_type": "stream",
     "text": [
      "\n",
      "Launched plot_words_in_topics_treemap.\n",
      "Done.\n"
     ]
    }
   ],
   "source": [
    "word_weights_file = join(wdir, model_folder, \"word-weights_\" + param_settings + \".csv\")\n",
    "wordsintopics_treemap_out = join(out_dir, param_settings, \"wordsintopics_treemap\")\n",
    "\n",
    "visualize.plot_words_in_topics_treemap(NumTopics, words_to_plot, word_weights_file, wordsintopics_treemap_out)"
   ]
  },
  {
   "cell_type": "markdown",
   "metadata": {},
   "source": [
    "## plot topics-in-documents treemap"
   ]
  },
  {
   "cell_type": "code",
   "execution_count": null,
   "metadata": {
    "collapsed": true
   },
   "outputs": [],
   "source": []
  }
 ],
 "metadata": {
  "kernelspec": {
   "display_name": "Python 3",
   "language": "python",
   "name": "python3"
  },
  "language_info": {
   "codemirror_mode": {
    "name": "ipython",
    "version": 3
   },
   "file_extension": ".py",
   "mimetype": "text/x-python",
   "name": "python",
   "nbconvert_exporter": "python",
   "pygments_lexer": "ipython3",
   "version": "3.5.2"
  }
 },
 "nbformat": 4,
 "nbformat_minor": 1
}
