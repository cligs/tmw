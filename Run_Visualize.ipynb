{
 "cells": [
  {
   "cell_type": "markdown",
   "metadata": {},
   "source": [
    "# Run Visualize\n",
    "\n",
    "(author: uhk, based on run_visualize.py by cs, created on: October 2017)\n",
    "\n",
    "This notebook is for calling functions from TMW's visualize module.\n",
    "\n",
    "General advice on how to use the notebook:\n",
    "\n",
    "* Run the code blocks one after the other. The blocks \"Imports\" and \"General Settings\" have to be run first.\n",
    "* Each visualization block, e.g. plot words-in-topics-treemap, can be run separately.\n",
    "* Some settings need to be changed, e.g. your working directory, number of topics, parameters, ... the comments say \"set...\" where this is the case. No other changes have to be made to the code."
   ]
  },
  {
   "cell_type": "markdown",
   "metadata": {},
   "source": [
    "## Imports"
   ]
  },
  {
   "cell_type": "code",
   "execution_count": 1,
   "metadata": {
    "collapsed": true
   },
   "outputs": [],
   "source": [
    "from os.path import join\n",
    "from os.path import abspath\n",
    "import importlib\n",
    "import sys"
   ]
  },
  {
   "cell_type": "code",
   "execution_count": 28,
   "metadata": {
    "collapsed": true
   },
   "outputs": [],
   "source": [
    "\"\"\"\n",
    "set the path to the directory where you stored TMW\n",
    "\"\"\"\n",
    "tmw_path = \"/home/ulrike/Dokumente/GS/Veranstaltungen/2017_QuestioningModels_TM/scripts/tmw\""
   ]
  },
  {
   "cell_type": "code",
   "execution_count": 29,
   "metadata": {
    "collapsed": false
   },
   "outputs": [
    {
     "name": "stdout",
     "output_type": "stream",
     "text": [
      "['', '/usr/lib/python35.zip', '/usr/lib/python3.5', '/usr/lib/python3.5/plat-x86_64-linux-gnu', '/usr/lib/python3.5/lib-dynload', '/home/ulrike/.local/lib/python3.5/site-packages', '/usr/local/lib/python3.5/dist-packages', '/usr/local/lib/python3.5/dist-packages/wikiextractor-2.69-py3.5.egg', '/usr/lib/python3/dist-packages', '/home/ulrike/.local/lib/python3.5/site-packages/IPython/extensions', '/home/ulrike/.ipython', '/home/ulrike/Git/tmw/scripts_verona', '/home/ulrike/Dokumente/GS/Veranstaltungen/2017_QuestioningModels_TM/scripts/tmw']\n"
     ]
    }
   ],
   "source": [
    "sys.path.append(abspath(tmw_path))\n",
    "\"\"\"\n",
    "this shows your path settings\n",
    "\"\"\"\n",
    "print(sys.path)"
   ]
  },
  {
   "cell_type": "code",
   "execution_count": 30,
   "metadata": {
    "collapsed": false
   },
   "outputs": [
    {
     "data": {
      "text/plain": [
       "<module 'visualize' from '/home/ulrike/Dokumente/GS/Veranstaltungen/2017_QuestioningModels_TM/scripts/tmw/visualize.py'>"
      ]
     },
     "execution_count": 30,
     "metadata": {},
     "output_type": "execute_result"
    }
   ],
   "source": [
    "import visualize\n",
    "\n",
    "importlib.reload(visualize)"
   ]
  },
  {
   "cell_type": "markdown",
   "metadata": {},
   "source": [
    "## General settings"
   ]
  },
  {
   "cell_type": "code",
   "execution_count": 5,
   "metadata": {
    "collapsed": true
   },
   "outputs": [],
   "source": [
    "\"\"\"\n",
    "set the working directory\n",
    "- a folder which contains the metadata file, the corpus folder, etc.\n",
    "- the topic modeling output will be stored in new subfolders inside the working directory\n",
    "\"\"\"\n",
    "wdir = \"/home/ulrike/Dokumente/GS/Veranstaltungen/2017_QuestioningModels_TM/data_MALLET\"\n",
    "\n",
    "\"\"\"\n",
    "set the model folder name\n",
    "\"\"\"\n",
    "model_folder = \"model\"\n",
    "\n",
    "\"\"\"\n",
    "set the file name of the MALLET --topic-word-weights option, which is usually \"word-weights\"\n",
    "(without the ending .txt)\n",
    "\"\"\"\n",
    "word_weights = \"word-weights\"\n",
    "\n",
    "\n",
    "\"\"\"\n",
    "set the aggregate folder name\n",
    "\"\"\"\n",
    "aggregates_folder = \"aggregates\"\n",
    "\n",
    "\"\"\"\n",
    "set the output folder name for visualizations\n",
    "\"\"\"\n",
    "out_folder = \"visuals\"\n"
   ]
  },
  {
   "cell_type": "code",
   "execution_count": 6,
   "metadata": {
    "collapsed": false
   },
   "outputs": [],
   "source": [
    "out_dir = join(wdir, out_folder)"
   ]
  },
  {
   "cell_type": "code",
   "execution_count": 7,
   "metadata": {
    "collapsed": true
   },
   "outputs": [],
   "source": [
    "\"\"\"\n",
    "set the parameters as they were used in the topic modeling\n",
    "- these settings will be used for output file names\n",
    "\"\"\"\n",
    "NumTopics = 20\n",
    "NumIterations = 5000\n",
    "OptimizeIntervals = 100\n",
    "TopTopics = 30"
   ]
  },
  {
   "cell_type": "code",
   "execution_count": 8,
   "metadata": {
    "collapsed": true
   },
   "outputs": [],
   "source": [
    "param_settings = str(NumTopics) + \"tp-\" + str(NumIterations) + \"it-\" + str(OptimizeIntervals) + \"in-\" + str(TopTopics) + \"tt\""
   ]
  },
  {
   "cell_type": "markdown",
   "metadata": {},
   "source": [
    "## make_wordle_from_mallet"
   ]
  },
  {
   "cell_type": "code",
   "execution_count": 9,
   "metadata": {
    "collapsed": true
   },
   "outputs": [],
   "source": [
    "\"\"\"\n",
    "create a wordle for each topic from MALLET\n",
    "\"\"\"\n",
    "\n",
    "\"\"\"\n",
    "set the number of words to consider for the wordcloud\n",
    "\"\"\"\n",
    "num_words = 20\n",
    "\n",
    "\"\"\"\n",
    "set the resolution for the images (in dots per inch)\n",
    "\"\"\"\n",
    "dpi = 300"
   ]
  },
  {
   "cell_type": "code",
   "execution_count": 10,
   "metadata": {
    "collapsed": true
   },
   "outputs": [],
   "source": [
    "word_weights_file = join(wdir, model_folder, word_weights + \".txt\")\n",
    "\n",
    "wordles_out = join(wdir, out_folder, param_settings, \"wordles\")\n",
    "#font_path = join(wdir, \"font\", \"AlegreyaSans-Regular.otf\")\n",
    "\n",
    "num_topics = NumTopics\n",
    "TopicRanksFile = join(wdir, aggregates_folder, param_settings, \"topicRanks.csv\")\n"
   ]
  },
  {
   "cell_type": "code",
   "execution_count": 11,
   "metadata": {
    "collapsed": false
   },
   "outputs": [
    {
     "name": "stdout",
     "output_type": "stream",
     "text": [
      "\n",
      "Launched make_wordle_from_mallet.\n",
      "Done.\n"
     ]
    }
   ],
   "source": [
    "visualize.make_wordle_from_mallet(word_weights_file, NumTopics, num_words, TopicRanksFile, wordles_out, dpi)"
   ]
  },
  {
   "cell_type": "markdown",
   "metadata": {},
   "source": [
    "## plot words-in-topics treemap"
   ]
  },
  {
   "cell_type": "code",
   "execution_count": 12,
   "metadata": {
    "collapsed": true
   },
   "outputs": [],
   "source": [
    "\"\"\"\n",
    "set the number of words to plot\n",
    "\"\"\"\n",
    "words_to_plot = 10"
   ]
  },
  {
   "cell_type": "code",
   "execution_count": 13,
   "metadata": {
    "collapsed": false
   },
   "outputs": [
    {
     "name": "stdout",
     "output_type": "stream",
     "text": [
      "\n",
      "Launched plot_words_in_topics_treemap.\n",
      "Done.\n"
     ]
    }
   ],
   "source": [
    "word_weights_file = join(wdir, model_folder, word_weights + \".txt\")\n",
    "wordsintopics_treemap_out = join(out_dir, param_settings, \"wordsintopics_treemap\")\n",
    "\n",
    "visualize.plot_words_in_topics_treemap(NumTopics, words_to_plot, word_weights_file, wordsintopics_treemap_out)"
   ]
  },
  {
   "cell_type": "markdown",
   "metadata": {},
   "source": [
    "## plot topics-in-docs treemap"
   ]
  },
  {
   "cell_type": "code",
   "execution_count": 14,
   "metadata": {
    "collapsed": true
   },
   "outputs": [],
   "source": [
    "\"\"\"\n",
    "set the number of topics to plot\n",
    "\"\"\"\n",
    "topics_to_plot = 10"
   ]
  },
  {
   "cell_type": "code",
   "execution_count": 15,
   "metadata": {
    "collapsed": false
   },
   "outputs": [
    {
     "name": "stdout",
     "output_type": "stream",
     "text": [
      "\n",
      "Launched plot_topics_in_docs_treemap.\n",
      "Done.\n"
     ]
    }
   ],
   "source": [
    "doc_topic_file = join(wdir, aggregates_folder, param_settings, \"avgtopicscores_by-idno.csv\")\n",
    "first_words_file = join(wdir, aggregates_folder, param_settings, \"firstWords.csv\")\n",
    "topicsindocs_treemap_out = join(out_dir, param_settings, \"topicsindocs_treemap\")\n",
    "\n",
    "visualize.plot_topics_in_docs_treemap(topics_to_plot, doc_topic_file, first_words_file, topicsindocs_treemap_out)"
   ]
  },
  {
   "cell_type": "markdown",
   "metadata": {},
   "source": [
    "## plot_topTopics"
   ]
  },
  {
   "cell_type": "code",
   "execution_count": 19,
   "metadata": {
    "collapsed": true
   },
   "outputs": [],
   "source": [
    "\"\"\"\n",
    "creates a bar chart of the top topics for each metadata category\n",
    "\"\"\"\n",
    "\n",
    "\"\"\"\n",
    "set the metadata categories which should be used (currently does not work for \"publication-year\")\n",
    "\"\"\"\n",
    "target = [\"author-gender\"]\n",
    "\n",
    "\"\"\"\n",
    "set the number of top topics to be shown\n",
    "\"\"\"\n",
    "topTopicsShown = 10\n",
    "\n",
    "\"\"\"\n",
    "set the font size for the charts\n",
    "\"\"\"\n",
    "fontscale = 1.0\n",
    "\n",
    "\"\"\"\n",
    "set the resolution for the images (in dots per inch)\n",
    "\"\"\"\n",
    "dpi = 300\n",
    "\n",
    "\"\"\"\n",
    "set the mode to \"normalized\" topic scores or \"absolute\" topic scores\n",
    "\"\"\"\n",
    "mode = \"absolute\""
   ]
  },
  {
   "cell_type": "code",
   "execution_count": 20,
   "metadata": {
    "collapsed": true
   },
   "outputs": [],
   "source": [
    "averageDatasets = join(wdir, aggregates_folder, param_settings, \"avg*.csv\") \n",
    "firstWordsFile = join(wdir, aggregates_folder, param_settings, \"firstWords.csv\")\n",
    "height = 0 # 0=automatic and variable\n",
    "topTopics_out = join(wdir, out_folder, param_settings, \"topTopics\")"
   ]
  },
  {
   "cell_type": "code",
   "execution_count": 21,
   "metadata": {
    "collapsed": false
   },
   "outputs": [
    {
     "name": "stdout",
     "output_type": "stream",
     "text": [
      "Launched plot_topTopics.\n",
      " Getting targetItems for: author-gender\n",
      "(20, 2)\n",
      "20\n",
      "  Creating plot for: female\n",
      "(20, 2)\n",
      "20\n",
      "  Creating plot for: male\n",
      "Done.\n"
     ]
    }
   ],
   "source": [
    "visualize.plot_topTopics(averageDatasets, firstWordsFile, NumTopics, target, mode, topTopicsShown, fontscale, height, dpi, topTopics_out)"
   ]
  },
  {
   "cell_type": "markdown",
   "metadata": {},
   "source": [
    "## plot_topItems"
   ]
  },
  {
   "cell_type": "code",
   "execution_count": 22,
   "metadata": {
    "collapsed": true
   },
   "outputs": [],
   "source": [
    "\"\"\"\n",
    "creates a barchart for each topic, with the top items (titles, authors, etc.) for that topic\n",
    "\"\"\"\n",
    "\n",
    "\"\"\"\n",
    "set the metadata categories to plot\n",
    "\"\"\"\n",
    "target = [\"author-gender\", \"publication-decade\"]\n",
    "\n",
    "\"\"\"\n",
    "set the number of top items to show\n",
    "\"\"\"\n",
    "topItemsShown = 20\n",
    "\n",
    "\"\"\"\n",
    "set the font size\n",
    "\"\"\"\n",
    "fontscale = 0.8\n",
    "\n",
    "\"\"\"\n",
    "set the resolution of the images (in dots per inch)\n",
    "\"\"\"\n",
    "dpi = 300"
   ]
  },
  {
   "cell_type": "code",
   "execution_count": 23,
   "metadata": {
    "collapsed": true
   },
   "outputs": [],
   "source": [
    "averageDatasets = join(wdir, aggregates_folder, param_settings, \"avg*.csv\")\n",
    "topItems_out = join(wdir, out_folder, param_settings, \"topItems\")\n",
    "firstWordsFile = join(wdir, aggregates_folder, param_settings, \"firstWords.csv\")\n",
    "height = 0 # 0=automatic and flexible"
   ]
  },
  {
   "cell_type": "code",
   "execution_count": 24,
   "metadata": {
    "collapsed": false
   },
   "outputs": [
    {
     "name": "stdout",
     "output_type": "stream",
     "text": [
      "Launched plot_topItems\n",
      " Plotting for: author-gender\n",
      "  Creating plot for topic: 0\n",
      "  Creating plot for topic: 1\n",
      "  Creating plot for topic: 2\n",
      "  Creating plot for topic: 3\n",
      "  Creating plot for topic: 4\n",
      "  Creating plot for topic: 5\n",
      "  Creating plot for topic: 6\n",
      "  Creating plot for topic: 7\n",
      "  Creating plot for topic: 8\n",
      "  Creating plot for topic: 9\n",
      "  Creating plot for topic: 10\n",
      "  Creating plot for topic: 11\n",
      "  Creating plot for topic: 12\n",
      "  Creating plot for topic: 13\n",
      "  Creating plot for topic: 14\n",
      "  Creating plot for topic: 15\n",
      "  Creating plot for topic: 16\n",
      "  Creating plot for topic: 17\n",
      "  Creating plot for topic: 18\n",
      "  Creating plot for topic: 19\n",
      " Plotting for: publication-decade\n",
      "  Creating plot for topic: 0\n",
      "  Creating plot for topic: 1\n",
      "  Creating plot for topic: 2\n",
      "  Creating plot for topic: 3\n",
      "  Creating plot for topic: 4\n",
      "  Creating plot for topic: 5\n",
      "  Creating plot for topic: 6\n",
      "  Creating plot for topic: 7\n",
      "  Creating plot for topic: 8\n",
      "  Creating plot for topic: 9\n",
      "  Creating plot for topic: 10\n",
      "  Creating plot for topic: 11\n",
      "  Creating plot for topic: 12\n",
      "  Creating plot for topic: 13\n",
      "  Creating plot for topic: 14\n",
      "  Creating plot for topic: 15\n",
      "  Creating plot for topic: 16\n",
      "  Creating plot for topic: 17\n",
      "  Creating plot for topic: 18\n",
      "  Creating plot for topic: 19\n",
      "Done.\n"
     ]
    }
   ],
   "source": [
    "visualize.plot_topItems(averageDatasets, topItems_out, firstWordsFile, NumTopics, target, topItemsShown, fontscale, height, dpi)"
   ]
  },
  {
   "cell_type": "markdown",
   "metadata": {},
   "source": [
    "## plot_distinctiveness_heatmap"
   ]
  },
  {
   "cell_type": "code",
   "execution_count": 25,
   "metadata": {
    "collapsed": true
   },
   "outputs": [],
   "source": [
    "\"\"\"\n",
    "for each category, make a heatmap of most distinctive topics\n",
    "\"\"\"\n",
    "\n",
    "\"\"\"\n",
    "set the target metadata categories to use for the heatmap\n",
    "\"\"\"\n",
    "target = [\"author-gender\", \"publication-decade\"]\n",
    "\n",
    "\"\"\"\n",
    "set the top topics shown\n",
    "\"\"\"\n",
    "topTopicsShown = 20\n",
    "\n",
    "\"\"\"\n",
    "set the mode for normalization of the heatmap values\n",
    "possible values: meannorm|mediannorm|zscores|absolute\n",
    "\"\"\"\n",
    "mode = \"zscores\"\n",
    "\n",
    "\"\"\"\n",
    "set the font scale\n",
    "\"\"\"\n",
    "fontscale = 1.0\n",
    "\n",
    "\"\"\"\n",
    "set the resolution for the images\n",
    "\"\"\"\n",
    "dpi = 300"
   ]
  },
  {
   "cell_type": "code",
   "execution_count": 26,
   "metadata": {
    "collapsed": true
   },
   "outputs": [],
   "source": [
    "averageDatasets = join(wdir, aggregates_folder, param_settings, \"avg*.csv\") \n",
    "firstWordsFile = join(wdir, aggregates_folder, param_settings, \"firstWords.csv\")\n",
    "out_distinctiveness = join(wdir, out_folder, param_settings, \"distinctiveness\")\n",
    "sorting = \"std\""
   ]
  },
  {
   "cell_type": "code",
   "execution_count": 27,
   "metadata": {
    "collapsed": false
   },
   "outputs": [
    {
     "name": "stdout",
     "output_type": "stream",
     "text": [
      "Launched plot_distinctiveness_heatmap.\n",
      "- working on: author-gender\n",
      "- getting dataToPlot...\n",
      "- working on: publication-decade\n",
      "- getting dataToPlot...\n",
      "Done.\n"
     ]
    }
   ],
   "source": [
    "visualize.plot_distinctiveness_heatmap(averageDatasets, firstWordsFile, out_distinctiveness, target, NumTopics, topTopicsShown, mode, sorting, fontscale, dpi)"
   ]
  },
  {
   "cell_type": "code",
   "execution_count": null,
   "metadata": {
    "collapsed": true
   },
   "outputs": [],
   "source": []
  }
 ],
 "metadata": {
  "kernelspec": {
   "display_name": "Python 3",
   "language": "python",
   "name": "python3"
  },
  "language_info": {
   "codemirror_mode": {
    "name": "ipython",
    "version": 3
   },
   "file_extension": ".py",
   "mimetype": "text/x-python",
   "name": "python",
   "nbconvert_exporter": "python",
   "pygments_lexer": "ipython3",
   "version": "3.5.2"
  }
 },
 "nbformat": 4,
 "nbformat_minor": 1
}
