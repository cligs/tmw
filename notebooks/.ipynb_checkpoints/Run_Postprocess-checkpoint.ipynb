{
 "cells": [
  {
   "cell_type": "markdown",
   "metadata": {},
   "source": [
    "# Run Postprocess\n",
    "\n",
    "(author: uhk, based on run_prepare.py by cs, created on: October 2017)\n",
    "\n",
    "This notebook is for calling functions from TMW's prepare module.\n",
    "\n",
    "General advice on how to use the notebook:\n",
    "\n",
    "* Run the code blocks one after the other. The blocks \"Imports\" and \"General Settings\" have to be run first.\n",
    "* Each visualization block, e.g. plot words-in-topics-treemap, can be run separately.\n",
    "* Some settings need to be changed, e.g. your working directory, number of topics, parameters, ... the comments say \"set...\" where this is the case. No other changes have to be made to the code."
   ]
  },
  {
   "cell_type": "markdown",
   "metadata": {
    "collapsed": true
   },
   "source": [
    "## Imports"
   ]
  },
  {
   "cell_type": "code",
   "execution_count": 1,
   "metadata": {
    "collapsed": true
   },
   "outputs": [],
   "source": [
    "from os.path import join\n",
    "from os.path import abspath\n",
    "import importlib\n",
    "import sys"
   ]
  },
  {
   "cell_type": "code",
   "execution_count": 2,
   "metadata": {
    "collapsed": true
   },
   "outputs": [],
   "source": [
    "\"\"\"\n",
    "set the path to the directory where you stored TMW\n",
    "\"\"\"\n",
    "tmw_path = \"/home/ulrike/Git/tmw\""
   ]
  },
  {
   "cell_type": "code",
   "execution_count": 55,
   "metadata": {
    "collapsed": false
   },
   "outputs": [
    {
     "name": "stdout",
     "output_type": "stream",
     "text": [
      "['', '/usr/lib/python35.zip', '/usr/lib/python3.5', '/usr/lib/python3.5/plat-x86_64-linux-gnu', '/usr/lib/python3.5/lib-dynload', '/home/ulrike/.local/lib/python3.5/site-packages', '/usr/local/lib/python3.5/dist-packages', '/usr/local/lib/python3.5/dist-packages/wikiextractor-2.69-py3.5.egg', '/usr/lib/python3/dist-packages', '/home/ulrike/.local/lib/python3.5/site-packages/IPython/extensions', '/home/ulrike/.ipython', '/home/ulrike/Git/tmw/scripts_verona', '/home/ulrike/Git/tmw/scripts_verona']\n"
     ]
    }
   ],
   "source": [
    "sys.path.append(abspath(join(tmw_path, \"scripts_verona\")))\n",
    "\"\"\"\n",
    "this shows your path settings\n",
    "\"\"\"\n",
    "print(sys.path)"
   ]
  },
  {
   "cell_type": "code",
   "execution_count": 199,
   "metadata": {
    "collapsed": false
   },
   "outputs": [
    {
     "data": {
      "text/plain": [
       "<module 'postprocess_verona' from '/home/ulrike/Git/tmw/scripts_verona/postprocess_verona.py'>"
      ]
     },
     "execution_count": 199,
     "metadata": {},
     "output_type": "execute_result"
    }
   ],
   "source": [
    "import postprocess_verona\n",
    "\n",
    "importlib.reload(postprocess_verona)"
   ]
  },
  {
   "cell_type": "markdown",
   "metadata": {},
   "source": [
    "## General settings"
   ]
  },
  {
   "cell_type": "code",
   "execution_count": 139,
   "metadata": {
    "collapsed": true
   },
   "outputs": [],
   "source": [
    "\"\"\"\n",
    "set the working directory\n",
    "- a folder which contains the metadata file, the corpus folder, etc.\n",
    "- the topic modeling output will be stored in new subfolders inside the working directory\n",
    "\"\"\"\n",
    "wdir = \"/home/ulrike/Dokumente/GS/Veranstaltungen/2017_Verona/exercises_English\"\n",
    "\n",
    "\"\"\"\n",
    "set the corpus folder name\n",
    "\"\"\"\n",
    "corpus_folder = \"5_lemmata_N\"\n",
    "\n",
    "\"\"\"\n",
    "set the metadata file name (this should end with .csv)\n",
    "\"\"\"\n",
    "metadata_file = \"metadata.csv\"\n",
    "\n",
    "\"\"\"\n",
    "set the MALLET version which was used\n",
    "\"\"\"\n",
    "version  = \"208+\"\n",
    "\n",
    "\"\"\"\n",
    "set the model folder name (the folder where the MALLET model was stored in)\n",
    "\"\"\"\n",
    "model_folder = \"mallet_model\"\n",
    "\n",
    "\"\"\"\n",
    "set the file name of the MALLET --output-doc-topics option, which is usually \"topics-in-texts\"\n",
    "(without the ending .txt)\n",
    "\"\"\"\n",
    "topics_in_texts = \"topics-in-texts\"\n",
    "\n",
    "\"\"\"\n",
    "set the file name of the MALLET --output-topic-keys option, which is usually \"topics-with-words\"\n",
    "(without the ending .txt)\n",
    "\"\"\"\n",
    "topics_with_words = \"topics-with-words\"\n",
    "\n",
    "\"\"\"\n",
    "set the aggregate folder name\n",
    "\"\"\"\n",
    "aggregates_folder = \"8_aggregates\""
   ]
  },
  {
   "cell_type": "code",
   "execution_count": 154,
   "metadata": {
    "collapsed": true
   },
   "outputs": [],
   "source": [
    "metadata_dir = join(wdir, metadata_file)\n",
    "aggregates_dir = join(wdir, aggregates_folder, param_settings)"
   ]
  },
  {
   "cell_type": "code",
   "execution_count": 101,
   "metadata": {
    "collapsed": true
   },
   "outputs": [],
   "source": [
    "\"\"\"\n",
    "set the parameters as they were used in the topic modeling\n",
    "- these settings will be used for output file names\n",
    "\"\"\"\n",
    "NumTopics = 30\n",
    "NumIterations = 500\n",
    "OptimizeIntervals = 50\n",
    "TopTopics = 20"
   ]
  },
  {
   "cell_type": "code",
   "execution_count": 102,
   "metadata": {
    "collapsed": true
   },
   "outputs": [],
   "source": [
    "param_settings = str(NumTopics) + \"tp-\" + str(NumIterations) + \"it-\" + str(OptimizeIntervals) + \"in-\" + str(TopTopics) + \"tt\""
   ]
  },
  {
   "cell_type": "markdown",
   "metadata": {},
   "source": [
    "## create_mastermatrix"
   ]
  },
  {
   "cell_type": "code",
   "execution_count": 164,
   "metadata": {
    "collapsed": false
   },
   "outputs": [],
   "source": [
    "\"\"\"\n",
    "This part joins all the information from the topic model in one matrix, the \"mastermatrix\".\n",
    "\"\"\"\n",
    "\n",
    "\"\"\"\n",
    "set the file name for the mastermatrix (this should end with .csv)\n",
    "\"\"\"\n",
    "mastermatrix_file_name = \"mastermatrix.csv\""
   ]
  },
  {
   "cell_type": "code",
   "execution_count": 104,
   "metadata": {
    "collapsed": true
   },
   "outputs": [],
   "source": [
    "corpus_path = join(wdir, corpus_folder, \"*.txt\")\n",
    "useBins = False\n",
    "topics_in_texts_path = join(wdir, model_folder, topics_in_texts + \".txt\")\n",
    "binDataFile = \"\""
   ]
  },
  {
   "cell_type": "code",
   "execution_count": 127,
   "metadata": {
    "collapsed": false
   },
   "outputs": [
    {
     "name": "stdout",
     "output_type": "stream",
     "text": [
      "\n",
      "Launched create_mastermatrix.\n",
      "- getting data...\n",
      "- getting metadata...\n",
      "- getting docmatrix...\n",
      "- getting topicscores...\n",
      "- merging data...\n",
      "Done. Saved mastermatrix. Segments and columns: (100, 36)\n"
     ]
    }
   ],
   "source": [
    "postprocess_verona.create_mastermatrix(corpus_path, aggregates_dir, mastermatrix_file_name, metadata_dir, topics_in_texts_path, NumTopics, useBins, binDataFile, version)"
   ]
  },
  {
   "cell_type": "markdown",
   "metadata": {},
   "source": [
    "## calculate_averageTopicScores"
   ]
  },
  {
   "cell_type": "code",
   "execution_count": 178,
   "metadata": {
    "collapsed": true
   },
   "outputs": [],
   "source": [
    "\"\"\"\n",
    "Based on the mastermatrix, average topic scores are calculated.\n",
    "\"\"\"\n",
    "\n",
    "\"\"\"\n",
    "set the metadata categories for which average topic scores should be calculated\n",
    "note: \"idno\" should always be there\n",
    "\"\"\"\n",
    "targets = [\"idno\", \"author-name\", \"author-gender\", \"title\", \"publication-year\"]"
   ]
  },
  {
   "cell_type": "code",
   "execution_count": 179,
   "metadata": {
    "collapsed": false
   },
   "outputs": [],
   "source": [
    "mastermatrixfile = join(aggregates_dir, mastermatrix_file_name)\n",
    "averages_outfolder = aggregates_dir"
   ]
  },
  {
   "cell_type": "code",
   "execution_count": 189,
   "metadata": {
    "collapsed": false
   },
   "outputs": [
    {
     "name": "stdout",
     "output_type": "stream",
     "text": [
      "\n",
      "Launched calculate_averageTopicScores.\n",
      "  Saved average topic scores for: idno\n",
      "  Saved average topic scores for: author-name\n",
      "  Saved average topic scores for: author-gender\n",
      "  Saved average topic scores for: title\n",
      "  Saved average topic scores for: publication-year\n",
      "Done.\n"
     ]
    }
   ],
   "source": [
    "postprocess_verona.calculate_averageTopicScores(mastermatrixfile, targets, averages_outfolder)"
   ]
  },
  {
   "cell_type": "markdown",
   "metadata": {},
   "source": [
    "## save_firstWords"
   ]
  },
  {
   "cell_type": "code",
   "execution_count": 157,
   "metadata": {
    "collapsed": false
   },
   "outputs": [],
   "source": [
    "\"\"\"\n",
    "this function saves the top three words for each topic (so that they can be used in visualizations later)\n",
    "\"\"\"\n",
    "topicWordFile = join(wdir, model_folder, topics_with_words + \".txt\")\n",
    "firstWords_out = aggregates_dir\n",
    "filename = \"firstWords.csv\""
   ]
  },
  {
   "cell_type": "code",
   "execution_count": 158,
   "metadata": {
    "collapsed": false
   },
   "outputs": [
    {
     "name": "stdout",
     "output_type": "stream",
     "text": [
      "Launched save_someFirstWords.\n",
      "Done.\n"
     ]
    }
   ],
   "source": [
    "postprocess_verona.save_firstWords(topicWordFile, firstWords_out, filename)"
   ]
  },
  {
   "cell_type": "markdown",
   "metadata": {},
   "source": [
    "## save_topicRanks"
   ]
  },
  {
   "cell_type": "code",
   "execution_count": 159,
   "metadata": {
    "collapsed": true
   },
   "outputs": [],
   "source": [
    "\"\"\"\n",
    "Save a list of the topics with their rank by topic score.\n",
    "\"\"\"\n",
    "topicWordFile = join(wdir, model_folder, topics_with_words + \".txt\")\n",
    "topicRanks_out = aggregates_dir\n",
    "filename = \"topicRanks.csv\""
   ]
  },
  {
   "cell_type": "code",
   "execution_count": 160,
   "metadata": {
    "collapsed": false
   },
   "outputs": [
    {
     "name": "stdout",
     "output_type": "stream",
     "text": [
      "Launched save_topicRanks.\n",
      "Done.\n"
     ]
    }
   ],
   "source": [
    "postprocess_verona.save_topicRanks(topicWordFile, topicRanks_out, filename)"
   ]
  },
  {
   "cell_type": "markdown",
   "metadata": {},
   "source": [
    "## calculate_complexAverageTopicScores"
   ]
  },
  {
   "cell_type": "code",
   "execution_count": 191,
   "metadata": {
    "collapsed": true
   },
   "outputs": [],
   "source": [
    "\"\"\"\n",
    "Calculate the average topic scores for two criteria (e.g. \"title\" and \"author-gender\")\n",
    "\"\"\"\n",
    "\n",
    "\"\"\"\n",
    "set the metadata categories to combine\n",
    "\"\"\"\n",
    "targets = [\"title\", \"author-gender\"]"
   ]
  },
  {
   "cell_type": "code",
   "execution_count": 192,
   "metadata": {
    "collapsed": false
   },
   "outputs": [],
   "source": [
    "mastermatrixfile = join(aggregates_dir, mastermatrix_file_name)\n",
    "complexAverage_out = aggregates_dir"
   ]
  },
  {
   "cell_type": "code",
   "execution_count": 200,
   "metadata": {
    "collapsed": false
   },
   "outputs": [
    {
     "name": "stdout",
     "output_type": "stream",
     "text": [
      "\n",
      "Launched calculate_complexAverageTopicScores.\n",
      "Done. Saved average topic scores for: title+author-gender\n"
     ]
    }
   ],
   "source": [
    "postprocess_verona.calculate_complexAverageTopicScores(mastermatrixfile, targets, complexAverage_out)"
   ]
  },
  {
   "cell_type": "code",
   "execution_count": null,
   "metadata": {
    "collapsed": true
   },
   "outputs": [],
   "source": []
  }
 ],
 "metadata": {
  "kernelspec": {
   "display_name": "Python 3",
   "language": "python",
   "name": "python3"
  },
  "language_info": {
   "codemirror_mode": {
    "name": "ipython",
    "version": 3
   },
   "file_extension": ".py",
   "mimetype": "text/x-python",
   "name": "python",
   "nbconvert_exporter": "python",
   "pygments_lexer": "ipython3",
   "version": "3.5.2"
  }
 },
 "nbformat": 4,
 "nbformat_minor": 1
}
