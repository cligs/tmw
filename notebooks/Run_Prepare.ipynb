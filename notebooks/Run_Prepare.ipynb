{
 "cells": [
  {
   "cell_type": "markdown",
   "metadata": {},
   "source": [
    "# Run Prepare\n",
    "\n",
    "(author: uhk, based on run_prepare.py by cs, created on: October 2017)\n",
    "\n",
    "This notebook is for calling functions from TMW's prepare module.\n",
    "\n",
    "General advice on how to use the notebook:\n",
    "\n",
    "* Run the code blocks one after the other. The blocks \"Imports\" and \"General Settings\" have to be run first.\n",
    "* Each visualization block, e.g. plot words-in-topics-treemap, can be run separately.\n",
    "* Some settings need to be changed, e.g. your working directory, number of topics, parameters, ... the comments say \"set...\" where this is the case. No other changes have to be made to the code."
   ]
  },
  {
   "cell_type": "markdown",
   "metadata": {},
   "source": [
    "## Imports"
   ]
  },
  {
   "cell_type": "code",
   "execution_count": 1,
   "metadata": {
    "collapsed": true
   },
   "outputs": [],
   "source": [
    "from os.path import join\n",
    "from os.path import abspath\n",
    "import importlib\n",
    "import sys"
   ]
  },
  {
   "cell_type": "code",
   "execution_count": 2,
   "metadata": {
    "collapsed": true
   },
   "outputs": [],
   "source": [
    "\"\"\"\n",
    "set the path to the directory where you stored TMW\n",
    "\"\"\"\n",
    "tmw_path = \"/home/ulrike/Git/tmw\""
   ]
  },
  {
   "cell_type": "code",
   "execution_count": 3,
   "metadata": {
    "collapsed": false
   },
   "outputs": [
    {
     "name": "stdout",
     "output_type": "stream",
     "text": [
      "['', '/usr/lib/python35.zip', '/usr/lib/python3.5', '/usr/lib/python3.5/plat-x86_64-linux-gnu', '/usr/lib/python3.5/lib-dynload', '/home/ulrike/.local/lib/python3.5/site-packages', '/usr/local/lib/python3.5/dist-packages', '/usr/local/lib/python3.5/dist-packages/wikiextractor-2.69-py3.5.egg', '/usr/lib/python3/dist-packages', '/home/ulrike/.local/lib/python3.5/site-packages/IPython/extensions', '/home/ulrike/.ipython', '/home/ulrike/Git/tmw/scripts_verona']\n"
     ]
    }
   ],
   "source": [
    "sys.path.append(abspath(join(tmw_path, \"scripts_verona\")))\n",
    "\"\"\"\n",
    "this shows your path settings\n",
    "\"\"\"\n",
    "print(sys.path)"
   ]
  },
  {
   "cell_type": "code",
   "execution_count": 4,
   "metadata": {
    "collapsed": false
   },
   "outputs": [
    {
     "data": {
      "text/plain": [
       "<module 'prepare_verona' from '/home/ulrike/Git/tmw/scripts_verona/prepare_verona.py'>"
      ]
     },
     "execution_count": 4,
     "metadata": {},
     "output_type": "execute_result"
    }
   ],
   "source": [
    "import prepare_verona\n",
    "\n",
    "importlib.reload(prepare_verona)"
   ]
  },
  {
   "cell_type": "markdown",
   "metadata": {},
   "source": [
    "## General settings"
   ]
  },
  {
   "cell_type": "code",
   "execution_count": 10,
   "metadata": {
    "collapsed": true
   },
   "outputs": [],
   "source": [
    "\"\"\"\n",
    "set the working directory\n",
    "- a folder which contains the metadata file, the corpus folder, etc.\n",
    "- the topic modeling output will be stored in new subfolders inside the working directory\n",
    "\"\"\"\n",
    "wdir = \"/home/ulrike/Dokumente/GS/Veranstaltungen/2017_Verona/exercises_Italian\"\n",
    "\n",
    "\"\"\"\n",
    "set the corpus folder name\n",
    "\"\"\"\n",
    "corpus_folder = \"5_lemmata_N\""
   ]
  },
  {
   "cell_type": "markdown",
   "metadata": {},
   "source": [
    "## Segmenter\n",
    "\n",
    "Splits entire texts into smaller segments."
   ]
  },
  {
   "cell_type": "code",
   "execution_count": 11,
   "metadata": {
    "collapsed": true
   },
   "outputs": [],
   "source": [
    "\"\"\"\n",
    "set the segment size in tokens\n",
    "\"\"\"\n",
    "segment_size = 2000\n",
    "\n",
    "\"\"\"\n",
    "set the size tolerance factor\n",
    "\n",
    "1 = exact target\n",
    "> 1 = with some tolerance, e.g. 1.1 +/- 10%\n",
    "\"\"\"\n",
    "size_tolerance_factor = 1.1\n",
    "\n",
    "\"\"\"\n",
    "set preserve paragraphs\n",
    "\n",
    "True: the segmenter will try to preserve paragraphs if possible (considering the size tolerance factor)\n",
    "False: paragraphs will not be preserved when segmenting\n",
    "\"\"\"\n",
    "preserve_paragraphs = True"
   ]
  },
  {
   "cell_type": "code",
   "execution_count": 12,
   "metadata": {
    "collapsed": false
   },
   "outputs": [
    {
     "name": "stdout",
     "output_type": "stream",
     "text": [
      "\n",
      "Launched segmenter.\n",
      "Done.\n"
     ]
    }
   ],
   "source": [
    "inpath = join(wdir, corpus_folder, \"*.txt\")\n",
    "outfolder = join(wdir, \"segs\", \"\")\n",
    "\n",
    "prepare_verona.segmenter(inpath, outfolder, segment_size, size_tolerance_factor, preserve_paragraphs)"
   ]
  },
  {
   "cell_type": "markdown",
   "metadata": {},
   "source": [
    "## Stopword list"
   ]
  },
  {
   "cell_type": "code",
   "execution_count": 15,
   "metadata": {
    "collapsed": true
   },
   "outputs": [],
   "source": [
    "\"\"\"\n",
    "Create a stopword list that can be used for the topic modeling later on.\n",
    "\"\"\"\n",
    "\n",
    "\"\"\"\n",
    "set the number of most frequent words that shall be stopwords\n",
    "\"\"\"\n",
    "mfw = 50\n",
    "\n",
    "\"\"\"\n",
    "set the file name for the stopwords output file\n",
    "\"\"\"\n",
    "stopwords_out = \"it_stopwords.txt\""
   ]
  },
  {
   "cell_type": "code",
   "execution_count": 16,
   "metadata": {
    "collapsed": false
   },
   "outputs": [
    {
     "name": "stdout",
     "output_type": "stream",
     "text": [
      "\n",
      "Launched create_stopword_list.\n",
      "Done.\n"
     ]
    }
   ],
   "source": [
    "corpus_dir = join(wdir, corpus_folder)\n",
    "stopwords_out_path = join(wdir, stopwords_out)\n",
    "\n",
    "prepare_verona.create_stopword_list(mfw, corpus_dir, stopwords_out_path)"
   ]
  },
  {
   "cell_type": "code",
   "execution_count": null,
   "metadata": {
    "collapsed": true
   },
   "outputs": [],
   "source": []
  }
 ],
 "metadata": {
  "kernelspec": {
   "display_name": "Python 3",
   "language": "python",
   "name": "python3"
  },
  "language_info": {
   "codemirror_mode": {
    "name": "ipython",
    "version": 3
   },
   "file_extension": ".py",
   "mimetype": "text/x-python",
   "name": "python",
   "nbconvert_exporter": "python",
   "pygments_lexer": "ipython3",
   "version": "3.5.2"
  }
 },
 "nbformat": 4,
 "nbformat_minor": 1
}
